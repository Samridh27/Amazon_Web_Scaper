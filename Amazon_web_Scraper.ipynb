{
  "metadata": {
    "kernelspec": {
      "name": "python",
      "display_name": "Python (Pyodide)",
      "language": "python"
    },
    "language_info": {
      "codemirror_mode": {
        "name": "python",
        "version": 3
      },
      "file_extension": ".py",
      "mimetype": "text/x-python",
      "name": "python",
      "nbconvert_exporter": "python",
      "pygments_lexer": "ipython3",
      "version": "3.8"
    }
  },
  "nbformat_minor": 5,
  "nbformat": 4,
  "cells": [
    {
      "id": "fbdacd26-4d8a-4bda-aeb9-b8912e258060",
      "cell_type": "code",
      "source": "# import lib\nfrom bs4 import BeautifulSoup\nimport requests\nimport time\nimport datetime\n\nimport smtplib",
      "metadata": {
        "trusted": true
      },
      "outputs": [],
      "execution_count": 2
    },
    {
      "id": "68778edf-3f6d-4a27-b63c-6627fa9e3332",
      "cell_type": "code",
      "source": "URL = 'https://www.amazon.com/Microsoft-Xbox-Gaming-Console-video-game/dp/B08H75RTZ8/ref=sr_1_1?crid=2VH5V0YSZCAI&dib=eyJ2IjoiMSJ9.CIzPHXkeyxuR6flHKM6zOpJRW6OGYcYfTU6YUgagg06cUPEnzVTekuFitTLW8IBl0lu7dBgAGPRmd8Pkt9WLPehM0KjL16GH0PNxMAnyfw8b5PEjIW_YTCTzEFSyhk3UebGZEPq85qiGGeypjCINHyyMYqAlpQMMiyZM5TkNUKknR4KrCo77Obh7W3mQSSyHYY1G4-gGZahOK_IBegpV3yb3rtFjF_TDm-VSXfRJho0.lQrPUe7-aK3Y5kZivRyaOD5RiSDIpUJSHJjy43ggFHA&dib_tag=se&keywords=xbox+series+x&qid=1757693423&sprefix=xbox+%2Caps%2C513&sr=8-1'\n\nheaders = \n\npage = requests.get(URL , headers = headers)\n\nsoup1 = Beautifulsoup(page.content, 'html.parser')\n\nsoup2 = BeautifulSoup(soup1.prettify(), 'html.parser')\n\ntitle = soup2.find(id='productTitle').get_text()\n\nprice = soup2.find(id='aok-offscreen').get_text()\n\nratings = soup2.find(id='averageCustomerReviews').get_text()\n\n\n\nprint(soup1)",
      "metadata": {
        "trusted": true
      },
      "outputs": [],
      "execution_count": null
    },
    {
      "id": "f62d2871-5c16-46dd-b0c3-147cfc1d5d3a",
      "cell_type": "code",
      "source": "price.strip()[1:]\ntitle.strip()\n\nprint(price)\nprint(title)",
      "metadata": {
        "trusted": true
      },
      "outputs": [],
      "execution_count": null
    },
    {
      "id": "27c5c23e-2ebe-4883-83e3-941735303145",
      "cell_type": "code",
      "source": "import datetime\n\ntoday = datetime.date.today()\n\nprint(today)",
      "metadata": {
        "trusted": true
      },
      "outputs": [],
      "execution_count": null
    },
    {
      "id": "5402e059-7529-4690-912e-3c65494248e3",
      "cell_type": "code",
      "source": "import csv\n\nheaders = ['title','price','ratings','date']\ndata = [title, price, ratings, today]\n\nwith open('Web Scraper.csv', 'w', newline = ' ', encoding = 'UTF8') as f:\n    writer = csv.writer(f)\n    writer.writerow(header)\n    writer.writerow(data)\n    ",
      "metadata": {
        "trusted": true
      },
      "outputs": [],
      "execution_count": null
    },
    {
      "id": "1ad5cab0-b050-44e5-81e8-d5d6ab080c0d",
      "cell_type": "code",
      "source": "import pandas as pd\n\ndf = pd.read_csv('')\n\nprint(df)\n",
      "metadata": {
        "trusted": true
      },
      "outputs": [
        {
          "name": "stdout",
          "output_type": "stream",
          "text": "2025-09-12\n"
        }
      ],
      "execution_count": 4
    },
    {
      "id": "12d6d861-e8cf-4b81-bfb2-a60b89264738",
      "cell_type": "code",
      "source": "with open('Web Scraper.csv', 'a+', newline = ' ', encoding = 'UTF8') as f:\n    writer = csv.writer(f)\n    writer.writerow(data)\n    ",
      "metadata": {
        "trusted": true
      },
      "outputs": [],
      "execution_count": null
    },
    {
      "id": "a484cc34-12ad-4a75-90e9-9c4d9725089c",
      "cell_type": "code",
      "source": "def price_check():\n    URL = 'https://www.amazon.com/Microsoft-Xbox-Gaming-Console-video-game/dp/B08H75RTZ8/ref=sr_1_1?crid=2VH5V0YSZCAI&dib=eyJ2IjoiMSJ9.CIzPHXkeyxuR6flHKM6zOpJRW6OGYcYfTU6YUgagg06cUPEnzVTekuFitTLW8IBl0lu7dBgAGPRmd8Pkt9WLPehM0KjL16GH0PNxMAnyfw8b5PEjIW_YTCTzEFSyhk3UebGZEPq85qiGGeypjCINHyyMYqAlpQMMiyZM5TkNUKknR4KrCo77Obh7W3mQSSyHYY1G4-gGZahOK_IBegpV3yb3rtFjF_TDm-VSXfRJho0.lQrPUe7-aK3Y5kZivRyaOD5RiSDIpUJSHJjy43ggFHA&dib_tag=se&keywords=xbox+series+x&qid=1757693423&sprefix=xbox+%2Caps%2C513&sr=8-1'\n\n    headers = \n\n    page = requests.get(URL , headers = headers)\n\n    soup1 = Beautifulsoup(page.content, 'html.parser')\n\n    soup2 = BeautifulSoup(soup1.prettify(), 'html.parser')\n\n    title = soup2.find(id='productTitle').get_text()\n\n    price = soup2.find(id='aok-offscreen').get_text()\n\n    ratings = soup2.find(id='averageCustomerReviews').get_text()\n\n    price.strip()[1:]\n    title.strip()\n\n    import datetime\n\n    today = datetime.date.today()\n    \n    headers = ['title','price','ratings','date']\n    data = [title, price, ratings, today]\n\n    with open('Web Scraper.csv', 'a+', newline = ' ', encoding = 'UTF8') as f:\n    writer = csv.writer(f)\n    writer.writerow(data)\n\n\n\n\n\n\n    ",
      "metadata": {
        "trusted": true
      },
      "outputs": [],
      "execution_count": null
    },
    {
      "id": "0407ae4b-3563-4ff6-bc62-ec22fd4e6d68",
      "cell_type": "code",
      "source": "while (True):\n    check_price()\n    time.sleep(86400)\n    ",
      "metadata": {
        "trusted": true
      },
      "outputs": [],
      "execution_count": null
    },
    {
      "id": "5e9b883b-a093-4405-84b8-c1fa3b7caac0",
      "cell_type": "code",
      "source": "import pandas as pd\n\ndf = pd.read_csv('')\n\nprint(df)",
      "metadata": {
        "trusted": true
      },
      "outputs": [],
      "execution_count": null
    },
    {
      "id": "2d1577e3-fd0c-4411-a505-192390dc8999",
      "cell_type": "code",
      "source": "def send_mail():\n    server = smtplib.SMTP_SSl('smtp.gmail.com', 4565)\n    server.ehlo()\n    server.elho()\n\n    server.login('rastogisamridh27@gmail.com','Lolhouse27!')\n\n    subject = 'The price is very low'\n    body = 'buy it now'\n\n    msg = f\"Subject: {subject}\\n\\n{body}\"\n\n    server.sendmail(\n        'rastogisamridh27@gmail.com',\n        msg\n    )",
      "metadata": {
        "trusted": true
      },
      "outputs": [],
      "execution_count": null
    }
  ]
}